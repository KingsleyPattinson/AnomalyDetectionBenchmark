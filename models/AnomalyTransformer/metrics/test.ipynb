{
 "cells": [
  {
   "cell_type": "code",
   "execution_count": 12,
   "id": "21ea53c2",
   "metadata": {
    "ExecutionIndicator": {
     "show": true
    },
    "execution": {
     "iopub.execute_input": "2023-04-26T10:01:40.439342Z",
     "iopub.status.busy": "2023-04-26T10:01:40.439019Z",
     "iopub.status.idle": "2023-04-26T10:01:40.449991Z",
     "shell.execute_reply": "2023-04-26T10:01:40.449317Z",
     "shell.execute_reply.started": "2023-04-26T10:01:40.439313Z"
    },
    "tags": []
   },
   "outputs": [],
   "source": [
    "from f1_score_f1_pa import *\n",
    "from fc_score import *\n",
    "from precision_at_k import *\n",
    "# from customizable_f1_score import *\n",
    "# from AUC import *\n",
    "from Matthews_correlation_coefficient import *\n",
    "from affiliation.generics import convert_vector_to_events\n",
    "# from affiliation.metrics import pr_from_events\n",
    "# from vus.models.feature import Window\n",
    "# from vus.metrics import get_range_vus_roc\n",
    "# import numpy as np\n",
    "\n",
    "def combine_all_evaluation_scores(y_test, pred_labels, anomaly_scores):\n",
    "    events_pred = convert_vector_to_events(y_test) \n",
    "    events_gt = convert_vector_to_events(pred_labels)\n",
    "    Trange = (0, len(y_test))\n",
    "    affiliation = pr_from_events(events_pred, events_gt, Trange)\n",
    "    true_events = get_events(y_test)\n",
    "    _, _, _, f1_score_ori, f05_score_ori = get_accuracy_precision_recall_fscore(y_test, pred_labels)\n",
    "    f1_score_pa = get_point_adjust_scores(y_test, pred_labels, true_events)[5]\n",
    "    pa_accuracy, pa_precision, pa_recall, pa_f_score = get_adjust_F1PA(y_test, pred_labels)\n",
    "    range_f_score = customizable_f1_score(y_test, pred_labels)\n",
    "    _, _, f1_score_c = get_composite_fscore_raw(y_test, pred_labels,  true_events, return_prec_rec=True)\n",
    "    precision_k = precision_at_k(y_test, anomaly_scores, pred_labels)\n",
    "    point_auc = point_wise_AUC(pred_labels, y_test)\n",
    "    range_auc = Range_AUC(pred_labels, y_test)\n",
    "    MCC_score = MCC(y_test, pred_labels)\n",
    "    vus_results = get_range_vus_roc(y_test, pred_labels, 100) # default slidingWindow = 100\n",
    "\n",
    "    score_list = {\"f1_score_ori\": f1_score_ori, \n",
    "                  \"f05_score_ori\" : f05_score_ori, \n",
    "                  \"f1_score_pa\": f1_score_pa,\n",
    "                  \n",
    "                  \"pa_accuracy\":pa_accuracy, \n",
    "                  \"pa_precision\":pa_precision, \n",
    "                  \"pa_recall\":pa_recall, \n",
    "                  \"pa_f_score\":pa_f_score,\n",
    "                  \n",
    "                  \"range_f_score\": range_f_score, \n",
    "                  \"f1_score_c\": f1_score_c, \n",
    "                  \"precision_k\": precision_k,\n",
    "                  \"point_auc\": point_auc, \n",
    "                  \"range_auc\": range_auc, \n",
    "                  \n",
    "                  \"MCC_score\":MCC_score, \n",
    "                  \"Affiliation precision\": affiliation['precision'], \n",
    "                  \"Affiliation recall\": affiliation['recall'],\n",
    "                  \"R_AUC_ROC\": vus_results[\"R_AUC_ROC\"], \n",
    "                  \"R_AUC_PR\": vus_results[\"R_AUC_PR\"],\n",
    "                  \"VUS_ROC\": vus_results[\"VUS_ROC\"],\n",
    "                  \"VUS_PR\": vus_results[\"VUS_PR\"]\n",
    "                 }\n",
    "    \n",
    "    score_list_simple = {\n",
    "                  \"pa_accuracy\":pa_accuracy, \n",
    "                  \"pa_precision\":pa_precision, \n",
    "                  \"pa_recall\":pa_recall, \n",
    "                  \"pa_f_score\":pa_f_score,\n",
    "                  \"MCC_score\":MCC_score, \n",
    "                  \"Affiliation precision\": affiliation['precision'], \n",
    "                  \"Affiliation recall\": affiliation['recall'],\n",
    "                  \"R_AUC_ROC\": vus_results[\"R_AUC_ROC\"], \n",
    "                  \"R_AUC_PR\": vus_results[\"R_AUC_PR\"],\n",
    "                  \"VUS_ROC\": vus_results[\"VUS_ROC\"],\n",
    "                  \"VUS_PR\": vus_results[\"VUS_PR\"]\n",
    "                  }\n",
    "    \n",
    "    return score_list, score_list_simple\n"
   ]
  },
  {
   "cell_type": "code",
   "execution_count": 13,
   "id": "9e2f9aa1",
   "metadata": {
    "execution": {
     "iopub.execute_input": "2023-04-26T10:01:44.936706Z",
     "iopub.status.busy": "2023-04-26T10:01:44.936394Z",
     "iopub.status.idle": "2023-04-26T10:01:45.019982Z",
     "shell.execute_reply": "2023-04-26T10:01:45.018988Z",
     "shell.execute_reply.started": "2023-04-26T10:01:44.936678Z"
    },
    "tags": []
   },
   "outputs": [
    {
     "name": "stdout",
     "output_type": "stream",
     "text": [
      "64000 3.09403 0.0\n"
     ]
    },
    {
     "ename": "NameError",
     "evalue": "name 'pr_from_events' is not defined",
     "output_type": "error",
     "traceback": [
      "\u001b[0;31m---------------------------------------------------------------------------\u001b[0m",
      "\u001b[0;31mNameError\u001b[0m                                 Traceback (most recent call last)",
      "\u001b[0;32m<ipython-input-13-d0d5379eb2ac>\u001b[0m in \u001b[0;36m<module>\u001b[0;34m\u001b[0m\n\u001b[1;32m      3\u001b[0m \u001b[0manomaly_scores\u001b[0m \u001b[0;34m=\u001b[0m \u001b[0mnp\u001b[0m\u001b[0;34m.\u001b[0m\u001b[0mload\u001b[0m\u001b[0;34m(\u001b[0m\u001b[0;34m\"data/events_scores_MSL.npy\"\u001b[0m\u001b[0;34m)\u001b[0m\u001b[0;34m\u001b[0m\u001b[0;34m\u001b[0m\u001b[0m\n\u001b[1;32m      4\u001b[0m \u001b[0mprint\u001b[0m\u001b[0;34m(\u001b[0m\u001b[0mlen\u001b[0m\u001b[0;34m(\u001b[0m\u001b[0my_test\u001b[0m\u001b[0;34m)\u001b[0m\u001b[0;34m,\u001b[0m \u001b[0mmax\u001b[0m\u001b[0;34m(\u001b[0m\u001b[0manomaly_scores\u001b[0m\u001b[0;34m)\u001b[0m\u001b[0;34m,\u001b[0m \u001b[0mmin\u001b[0m\u001b[0;34m(\u001b[0m\u001b[0manomaly_scores\u001b[0m\u001b[0;34m)\u001b[0m\u001b[0;34m)\u001b[0m\u001b[0;34m\u001b[0m\u001b[0;34m\u001b[0m\u001b[0m\n\u001b[0;32m----> 5\u001b[0;31m \u001b[0mscores\u001b[0m\u001b[0;34m,\u001b[0m \u001b[0mscore_list_simple\u001b[0m \u001b[0;34m=\u001b[0m \u001b[0mcombine_all_evaluation_scores\u001b[0m\u001b[0;34m(\u001b[0m\u001b[0my_test\u001b[0m\u001b[0;34m,\u001b[0m \u001b[0mpred_labels\u001b[0m\u001b[0;34m,\u001b[0m \u001b[0manomaly_scores\u001b[0m\u001b[0;34m)\u001b[0m\u001b[0;34m\u001b[0m\u001b[0;34m\u001b[0m\u001b[0m\n\u001b[0m\u001b[1;32m      6\u001b[0m \u001b[0;34m\u001b[0m\u001b[0m\n\u001b[1;32m      7\u001b[0m \u001b[0;32mfor\u001b[0m \u001b[0mkey\u001b[0m\u001b[0;34m,\u001b[0m \u001b[0mvalue\u001b[0m \u001b[0;32min\u001b[0m \u001b[0mscore_list_simple\u001b[0m\u001b[0;34m.\u001b[0m\u001b[0mitems\u001b[0m\u001b[0;34m(\u001b[0m\u001b[0;34m)\u001b[0m\u001b[0;34m:\u001b[0m\u001b[0;34m\u001b[0m\u001b[0;34m\u001b[0m\u001b[0m\n",
      "\u001b[0;32m<ipython-input-12-eec234fda5a3>\u001b[0m in \u001b[0;36mcombine_all_evaluation_scores\u001b[0;34m(y_test, pred_labels, anomaly_scores)\u001b[0m\n\u001b[1;32m     15\u001b[0m     \u001b[0mevents_gt\u001b[0m \u001b[0;34m=\u001b[0m \u001b[0mconvert_vector_to_events\u001b[0m\u001b[0;34m(\u001b[0m\u001b[0mpred_labels\u001b[0m\u001b[0;34m)\u001b[0m\u001b[0;34m\u001b[0m\u001b[0;34m\u001b[0m\u001b[0m\n\u001b[1;32m     16\u001b[0m     \u001b[0mTrange\u001b[0m \u001b[0;34m=\u001b[0m \u001b[0;34m(\u001b[0m\u001b[0;36m0\u001b[0m\u001b[0;34m,\u001b[0m \u001b[0mlen\u001b[0m\u001b[0;34m(\u001b[0m\u001b[0my_test\u001b[0m\u001b[0;34m)\u001b[0m\u001b[0;34m)\u001b[0m\u001b[0;34m\u001b[0m\u001b[0;34m\u001b[0m\u001b[0m\n\u001b[0;32m---> 17\u001b[0;31m     \u001b[0maffiliation\u001b[0m \u001b[0;34m=\u001b[0m \u001b[0mpr_from_events\u001b[0m\u001b[0;34m(\u001b[0m\u001b[0mevents_pred\u001b[0m\u001b[0;34m,\u001b[0m \u001b[0mevents_gt\u001b[0m\u001b[0;34m,\u001b[0m \u001b[0mTrange\u001b[0m\u001b[0;34m)\u001b[0m\u001b[0;34m\u001b[0m\u001b[0;34m\u001b[0m\u001b[0m\n\u001b[0m\u001b[1;32m     18\u001b[0m     \u001b[0mtrue_events\u001b[0m \u001b[0;34m=\u001b[0m \u001b[0mget_events\u001b[0m\u001b[0;34m(\u001b[0m\u001b[0my_test\u001b[0m\u001b[0;34m)\u001b[0m\u001b[0;34m\u001b[0m\u001b[0;34m\u001b[0m\u001b[0m\n\u001b[1;32m     19\u001b[0m     \u001b[0m_\u001b[0m\u001b[0;34m,\u001b[0m \u001b[0m_\u001b[0m\u001b[0;34m,\u001b[0m \u001b[0m_\u001b[0m\u001b[0;34m,\u001b[0m \u001b[0mf1_score_ori\u001b[0m\u001b[0;34m,\u001b[0m \u001b[0mf05_score_ori\u001b[0m \u001b[0;34m=\u001b[0m \u001b[0mget_accuracy_precision_recall_fscore\u001b[0m\u001b[0;34m(\u001b[0m\u001b[0my_test\u001b[0m\u001b[0;34m,\u001b[0m \u001b[0mpred_labels\u001b[0m\u001b[0;34m)\u001b[0m\u001b[0;34m\u001b[0m\u001b[0;34m\u001b[0m\u001b[0m\n",
      "\u001b[0;31mNameError\u001b[0m: name 'pr_from_events' is not defined"
     ]
    }
   ],
   "source": [
    "y_test = np.load(\"data/events_pred_MSL.npy\")+0\n",
    "pred_labels = np.load(\"data/events_gt_MSL.npy\")+0\n",
    "anomaly_scores = np.load(\"data/events_scores_MSL.npy\")\n",
    "print(len(y_test), max(anomaly_scores), min(anomaly_scores))\n",
    "scores, score_list_simple = combine_all_evaluation_scores(y_test, pred_labels, anomaly_scores)\n",
    "\n",
    "for key, value in score_list_simple.items():\n",
    "    print('{0:21} :{1:10f}'.format(key, value))"
   ]
  },
  {
   "cell_type": "code",
   "execution_count": null,
   "id": "e49bc68a-9475-4137-8cbe-923b9be090bb",
   "metadata": {},
   "outputs": [],
   "source": []
  }
 ],
 "metadata": {
  "kernelspec": {
   "display_name": "Python 3",
   "language": "python",
   "name": "python3"
  },
  "language_info": {
   "codemirror_mode": {
    "name": "ipython",
    "version": 3
   },
   "file_extension": ".py",
   "mimetype": "text/x-python",
   "name": "python",
   "nbconvert_exporter": "python",
   "pygments_lexer": "ipython3",
   "version": "3.6.15"
  }
 },
 "nbformat": 4,
 "nbformat_minor": 5
}
