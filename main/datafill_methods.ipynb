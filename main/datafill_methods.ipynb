{
 "cells": [
  {
   "cell_type": "code",
   "execution_count": 1,
   "metadata": {
    "execution": {
     "iopub.execute_input": "2023-08-18T05:57:47.477043Z",
     "iopub.status.busy": "2023-08-18T05:57:47.476851Z",
     "iopub.status.idle": "2023-08-18T05:57:47.772992Z",
     "shell.execute_reply": "2023-08-18T05:57:47.772477Z",
     "shell.execute_reply.started": "2023-08-18T05:57:47.477022Z"
    },
    "pycharm": {
     "name": "#%%\n"
    },
    "tags": []
   },
   "outputs": [],
   "source": [
    "import pandas as pd\n",
    "import numpy as np"
   ]
  },
  {
   "cell_type": "markdown",
   "metadata": {
    "pycharm": {
     "name": "#%% md\n"
    }
   },
   "source": [
    "## Obtain all instance files"
   ]
  },
  {
   "cell_type": "code",
   "execution_count": 2,
   "metadata": {
    "ExecutionIndicator": {
     "show": true
    },
    "execution": {
     "iopub.execute_input": "2023-08-18T03:41:32.065705Z",
     "iopub.status.busy": "2023-08-18T03:41:32.065520Z",
     "iopub.status.idle": "2023-08-18T03:41:32.079168Z",
     "shell.execute_reply": "2023-08-18T03:41:32.078757Z",
     "shell.execute_reply.started": "2023-08-18T03:41:32.065683Z"
    },
    "pycharm": {
     "name": "#%%\n"
    },
    "tags": []
   },
   "outputs": [
    {
     "data": {
      "text/plain": "2"
     },
     "execution_count": 2,
     "metadata": {},
     "output_type": "execute_result"
    }
   ],
   "source": [
    "import os\n",
    "datadir = '../datasets/holo/'\n",
    "filedir = '../datasets/holo/'\n",
    "files = os.listdir(filedir)\n",
    "len(files)"
   ]
  },
  {
   "cell_type": "markdown",
   "metadata": {
    "pycharm": {
     "name": "#%% md\n"
    },
    "tags": []
   },
   "source": [
    "## 以下空值填充方式，每次只用其一"
   ]
  },
  {
   "cell_type": "markdown",
   "metadata": {
    "pycharm": {
     "name": "#%% md\n"
    },
    "tags": []
   },
   "source": [
    "### 空值填充方式A ：填充0 （最常见的）"
   ]
  },
  {
   "cell_type": "code",
   "execution_count": 3,
   "metadata": {
    "ExecutionIndicator": {
     "show": true
    },
    "pycharm": {
     "name": "#%%\n"
    },
    "tags": []
   },
   "outputs": [
    {
     "name": "stdout",
     "output_type": "stream",
     "text": [
      "instance15.csv\n",
      "(167954, 17)\n",
      "(167954, 17)\n",
      "295.0\n"
     ]
    }
   ],
   "source": [
    "for file in files:\n",
    "    if str(file.split(\".\")[1]) != 'csv':\n",
    "        continue\n",
    "    folder = datadir + f'fillzero_std/{str(file.split(\".\")[0])}/'\n",
    "    os.makedirs(folder, exist_ok=True)\n",
    "    data = pd.read_csv(filedir+file)\n",
    "    print(file)\n",
    "    print(data.shape)\n",
    "    # 删除空值大于百分之50的列\n",
    "    limitPer = len(data) * 0.50\n",
    "    data = data.dropna(thresh=limitPer, axis=1)\n",
    "    print(data.shape)\n",
    "    # 空值填充\n",
    "    data = data.fillna(0).reset_index(drop=True)\n",
    "    \n",
    "    colname = list(data.columns)\n",
    "    # 归一化\n",
    "    for col in colname[:-1]:\n",
    "        data[col] = (data[col] - data[col].min()) / (data[col].max() - data[col].min() + 1e-6)\n",
    "    # 划分训练集和测试集\n",
    "    train = data.iloc[0 : int(data.shape[0]/2)]\n",
    "    test = data.iloc[int(data.shape[0]/2) : int(data.shape[0])]\n",
    "    print(sum(test[colname[-1]]))\n",
    "\n",
    "    np.save(folder+'train.npy', train[colname[:-1]].values)\n",
    "    np.save(folder+'test.npy', test[colname[:-1]].values)\n",
    "    np.save(folder+'test_label.npy', test[colname[-1]].values)\n"
   ]
  },
  {
   "cell_type": "markdown",
   "metadata": {
    "pycharm": {
     "name": "#%% md\n"
    },
    "tags": []
   },
   "source": [
    "### 空值填充方式B ：统计特征填充 -- 均值"
   ]
  },
  {
   "cell_type": "code",
   "execution_count": null,
   "metadata": {
    "ExecutionIndicator": {
     "show": true
    },
    "pycharm": {
     "name": "#%%\n"
    },
    "tags": []
   },
   "outputs": [],
   "source": [
    "for file in files:\n",
    "    if str(file.split(\".\")[1]) != 'csv':\n",
    "        continue\n",
    "    folder = datadir + f'fillmean_std/{str(file.split(\".\")[0])}/'\n",
    "    os.makedirs(folder, exist_ok=True)\n",
    "    data = pd.read_csv(filedir+file)\n",
    "    print(file)\n",
    "    print(data.shape)\n",
    "    limitPer = len(data) * 0.50\n",
    "    data = data.dropna(thresh=limitPer, axis=1)\n",
    "    print(data.shape)\n",
    "    data = data.fillna(data.mean()).reset_index(drop=True)\n",
    "    \n",
    "    colname = list(data.columns)\n",
    "    \n",
    "    for col in colname[:-1]:\n",
    "        data[col] = (data[col] - data[col].min()) / (data[col].max() - data[col].min() + 1e-6)\n",
    "        \n",
    "    train = data.iloc[0 : int(data.shape[0]/2)]\n",
    "    test = data.iloc[int(data.shape[0]/2) : int(data.shape[0])]\n",
    "    print(sum(test[colname[-1]]))\n",
    "\n",
    "    np.save(folder+'train.npy', train[colname[:-1]].values)\n",
    "    np.save(folder+'test.npy', test[colname[:-1]].values)\n",
    "    np.save(folder+'test_label.npy', test[colname[-1]].values)\n"
   ]
  },
  {
   "cell_type": "markdown",
   "metadata": {
    "pycharm": {
     "name": "#%% md\n"
    },
    "tags": []
   },
   "source": [
    "### 空值填充方式C：插值填充"
   ]
  },
  {
   "cell_type": "code",
   "execution_count": null,
   "outputs": [],
   "source": [
    "for file in files:\n",
    "    if str(file.split(\".\")[1]) != 'csv':\n",
    "        continue\n",
    "    folder = datadir + f'filllinear_std/{str(file.split(\".\")[0])}/'\n",
    "    os.makedirs(folder, exist_ok=True)\n",
    "    data = pd.read_csv(filedir+file)\n",
    "    #data = data.drop(data.columns[0], axis=1)\n",
    "    print(file)\n",
    "    print(data.shape)\n",
    "    limitPer = len(data) * 0.50\n",
    "    data = data.dropna(thresh=limitPer, axis=1)\n",
    "    print(data.shape)\n",
    "    \n",
    "    data = data.interpolate(method = 'linear', axis=1) # 插值法两端空值不能处理，进一步填充一下中位数\n",
    "    data = data.fillna(data.median()).reset_index(drop=True)\n",
    "    \n",
    "    colname = list(data.columns)\n",
    "    for col in colname[:-1]:\n",
    "        data[col] = (data[col] - data[col].min()) / (data[col].max() - data[col].min() + 1e-6)\n",
    "\n",
    "    print(data.head())\n",
    "    train = data.iloc[0 : int(data.shape[0]/2)]\n",
    "    test = data.iloc[int(data.shape[0]/2) : int(data.shape[0])]\n",
    "    print(sum(test[colname[-1]]))\n",
    "\n",
    "    \n",
    "    np.save(folder+'train.npy', train[colname[:-1]].values)\n",
    "    np.save(folder+'test.npy', test[colname[:-1]].values)\n",
    "    np.save(folder+'test_label.npy', test[colname[-1]].values)\n"
   ],
   "metadata": {
    "collapsed": false,
    "pycharm": {
     "name": "#%%\n"
    }
   }
  }
 ],
 "metadata": {
  "kernelspec": {
   "display_name": "Python 3",
   "language": "python",
   "name": "python3"
  },
  "language_info": {
   "codemirror_mode": {
    "name": "ipython",
    "version": 3
   },
   "file_extension": ".py",
   "mimetype": "text/x-python",
   "name": "python",
   "nbconvert_exporter": "python",
   "pygments_lexer": "ipython3",
   "version": "3.6.12"
  }
 },
 "nbformat": 4,
 "nbformat_minor": 4
}